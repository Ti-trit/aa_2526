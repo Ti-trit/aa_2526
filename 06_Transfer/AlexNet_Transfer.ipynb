{
  "cells": [
    {
      "metadata": {
        "id": "c5eabb34cbd5b7b2"
      },
      "cell_type": "markdown",
      "source": [
        "<div style=\"text-align: center;\">\n",
        "<a target=\"_blank\" href=\"https://colab.research.google.com/github/miquelmn/aa_2526/blob/main/06_Transfer/AlexNet_Transfer.ipynb\">\n",
        "  <img src=\"https://colab.research.google.com/assets/colab-badge.svg\" alt=\"Open In Colab\"/>\n",
        "</a>\n",
        "</div>"
      ],
      "id": "c5eabb34cbd5b7b2"
    },
    {
      "cell_type": "code",
      "id": "272d21b93244ea6",
      "metadata": {
        "id": "272d21b93244ea6"
      },
      "source": [
        "from tqdm.auto import tqdm\n",
        "\n",
        "\n",
        "import torch\n",
        "from torch import nn\n",
        "import torch.optim as optim\n",
        "from torchvision import datasets, models, transforms\n"
      ],
      "outputs": [],
      "execution_count": 3
    },
    {
      "cell_type": "markdown",
      "id": "457b4be692d2233a",
      "metadata": {
        "id": "457b4be692d2233a"
      },
      "source": [
        "# Models ja existents i *transfer learning*\n",
        "\n",
        "En aquesta pràctica, aprofundirem en la classificació d’imatges amb xarxes neuronals convolucionals (CNNs), però amb un enfocament diferent al de la sessió anterior. Mentre que anteriorment vàrem construir CNNs des de zero per comprendre la seva estructura bàsica, aquest cop treballarem amb un model de CNN preentrenat: **AlexNet**. Els objectius són:\n",
        "\n",
        "- **Comprendre i utilitzar un model existent**: en aquest cas, AlexNet, un model ja entrenat sobre un gran conjunt de dades.\n",
        "- **Transfer Learning**: aprendre com aprofitar els coneixements d’una xarxa preentrenada i adaptar-la per resoldre una nova tasca.\n",
        "- **Càrrega de conjunts de dades d’imatges locals**: aplicar el processament d’imatges i la càrrega de dades des de l’ordinador.\n",
        "\n",
        "Aquest enfocament ajuda a optimitzar l’entrenament i és especialment útil quan es disposa de pocs recursos computacionals o un conjunt de dades més reduït.\n",
        "\n",
        "### AlexNet\n",
        "\n",
        "AlexNet és una xarxa que va establir un nou estàndard en visió per computador gràcies a la seva capacitat de reconeixement en múltiples categories. La seva estructura, composta de capes convolucionals i de max-pooling, amb capes totalment connectades al final, és una referència en el camp de les CNNs.\n",
        "\n",
        "Aquest cop, usarem AlexNet com a punt de partida, sense construir el model des de zero, per veure com es poden reutilitzar i adaptar les seves característiques apreses per a nous conjunts de dades.\n",
        "\n",
        "### Què és el Transfer Learning?\n",
        "\n",
        "El Transfer Learning és una tècnica que permet aprofitar les xarxes preentrenades (com AlexNet) per a una nova tasca. La xarxa es modifica per adaptar-la a les noves classes del conjunt de dades que volem classificar, fent ús de les característiques generals ja apreses en l’entrenament inicial (vores, textures, etc.).\n",
        "\n",
        "Aquest process es pot fer de dues maneres. La primera és el que també rep el nom de **fine-tunning**:\n",
        "- Congelarem les primeres capes del model per conservar les característiques generals apreses.\n",
        "- Modificarem i entrenarem només les capes finals per adaptar-les a les noves classes, fent que el model s’ajusti de forma ràpida i amb menys dades.\n",
        "\n",
        "La segona, que anomenam també com la categoria general **transfer learning**:\n",
        "\n",
        "- Congelarem les capes de l'extractor de característiques del model per conservar les característiques generals apreses.\n",
        "- Afegir un nou classificador ``MLP`` i entrenar-ho de 0.\n",
        "\n",
        "\n",
        "Aquest procediment permetrà entendre com es pot utilitzar una xarxa ja existent per resoldre tasques específiques sense haver de construir ni entrenar un model completament des de zero.\n",
        "\n",
        "### Guia de la Pràctica\n",
        "\n",
        "En aquest notebook treballarem per:\n",
        "\n",
        " 1. Carregar i preparar un conjunt d’imatges des de l’ordinador.\n",
        " 2. Utilitzar el model AlexNet preentrenat i aplicar transfer learning per ajustar-lo a noves categories.\n",
        " 3. Analitzar el rendiment del model i visualitzar els resultats.\n",
        "\n",
        "## Començam\n",
        "\n",
        "Primer de tot, com sempre, hem d'obtenir les dades. Aquesta sessió la farem amb el conjunt de dades [Tiny ImageNet](https://www.kaggle.com/c/tiny-imagenet/data?select=train.images.zip).\n",
        "\n",
        "Aquest conjunt de dades es defineix en la seva plana de la forma següent:\n",
        "\n",
        "> MicroImageNet classification challenge is similar to the classification challenge in the full ImageNet ILSVRC. MicroImageNet contains 200 classes for training. Each class has 500 images. The test set contains 10,000 images. All images are 64x64 colored ones.\n",
        "\n",
        "Aquesta vegada no farem feina amb un conjunt de dades ja existents a ``torchvision`` sinó que nosaltres farem la gestió des de 0. Per tant i primer de tot descarregarem les dades. Per fer-ho podem trobar el conjunt de dades a la següent plana (http://cs231n.stanford.edu/tiny-imagenet-200.zip).\n",
        "\n",
        "Alternativament també podem emprar l'eina ``wget`` així:\n",
        "\n",
        "```\n",
        "wget http://cs231n.stanford.edu/tiny-imagenet-200.zip\n",
        "```\n",
        "\n",
        "Una vegada que hem descarregat les dades les podem descomprimir i finalment comença a fer-hi feina."
      ]
    },
    {
      "cell_type": "code",
      "id": "f040a135483ff08e",
      "metadata": {
        "id": "f040a135483ff08e"
      },
      "source": [
        "BATCH_SIZE = 4\n",
        "EPOCHS = 5\n",
        "\n",
        "transform = transforms.Compose([\n",
        "    transforms.ToTensor(),\n",
        "])\n",
        "\n",
        "#from zipfile import ZipFile\n",
        "\n",
        "#with ZipFile(\"../content/tiny-imagenet-200.zip\", 'r') as zObject:\n",
        "\n",
        "    # Extracting all the members of the zip\n",
        "    # into a specific location.\n",
        "\n",
        "    #zObject.extractall(\n",
        "     #   path=\"../content/tiny-imagenet-200\")\n",
        "train = datasets.ImageFolder('../content/tiny-imagenet-200/tiny-imagenet-200/train', transform=transform)\n",
        "test = datasets.ImageFolder('../content/tiny-imagenet-200/tiny-imagenet-200/test', transform=transform)\n",
        "\n",
        "train_loader = torch.utils.data.DataLoader(train,\n",
        "                                           batch_size=BATCH_SIZE,\n",
        "                                           shuffle=True)\n",
        "test_loader = torch.utils.data.DataLoader(test,\n",
        "                                          batch_size=BATCH_SIZE,\n",
        "                                          shuffle=True)"
      ],
      "outputs": [],
      "execution_count": 8
    },
    {
      "cell_type": "code",
      "source": [],
      "metadata": {
        "id": "eaUxARsxQtrP"
      },
      "id": "eaUxARsxQtrP",
      "execution_count": null,
      "outputs": []
    },
    {
      "cell_type": "markdown",
      "id": "834fa3a6b8385d7",
      "metadata": {
        "id": "834fa3a6b8385d7"
      },
      "source": [
        "L'estructura ``ImageFolder`` de PyTorch és una classe de ``torchvision.datasets`` que permet carregar un conjunt de dades d'imatges estructurat en carpetes, on cada subcarpeta representa una classe. És útil per a projectes de classificació d'imatges, ja que facilita la lectura automàtica d'imatges i etiquetes a partir de la seva organització en el sistema de fitxers.\n",
        "\n",
        "### Estructura de carpetes\n",
        "L'estructura que requereix ``ImageFolder`` per funcionar és la següent:\n",
        "\n",
        "```\n",
        "dataset_root/\n",
        "├── class1/\n",
        "│   ├── image1.jpg\n",
        "│   ├── image2.jpg\n",
        "│   └── ...\n",
        "├── class2/\n",
        "│   ├── image1.jpg\n",
        "│   ├── image2.jpg\n",
        "│   └── ...\n",
        "└── classN/\n",
        "    ├── image1.jpg\n",
        "    ├── image2.jpg\n",
        "    └── ...\n",
        "```\n",
        "\n",
        "On cada subcarpeta dins de dataset_root té el nom d'una classe, i dins de cada subcarpeta hi ha les imatges corresponents a aquella classe.\n",
        "\n",
        "#### Com funciona ImageFolder\n",
        "\n",
        "1. Etiquetes automàtiques: ImageFolder assigna una etiqueta numèrica a cada carpeta (classe) seguint l'ordre alfabètic dels noms de les carpetes.\n",
        "2. Transformacions: Pots afegir transformacions com ToTensor, Resize, Normalize, etc., per pre-processar les imatges en el moment de carregar-les.\n",
        "3. Dades i etiquetes: Cada vegada que crides un element del dataset, ImageFolder retorna una tupla (imatge, etiqueta).\n",
        "\n",
        "Aquest mètode és molt eficient per carregar i estructurar imatges per a tasques de classificació i facilita la integració amb models de PyTorch com AlexNet, ResNet, etc.\n"
      ]
    },
    {
      "cell_type": "code",
      "id": "b0756ea88b51da9e",
      "metadata": {
        "id": "b0756ea88b51da9e",
        "outputId": "e9e070fd-9a20-49e4-ac00-a9778e0d04b6",
        "colab": {
          "base_uri": "https://localhost:8080/"
        }
      },
      "source": [
        "img, target = next(iter(train_loader))\n",
        "print(img.shape, target)"
      ],
      "outputs": [
        {
          "output_type": "stream",
          "name": "stdout",
          "text": [
            "torch.Size([4, 3, 64, 64]) tensor([ 36, 152,  64,  99])\n"
          ]
        }
      ],
      "execution_count": 9
    },
    {
      "cell_type": "markdown",
      "id": "fe645c3e13180bbe",
      "metadata": {
        "id": "fe645c3e13180bbe"
      },
      "source": [
        "## Definició de la xarxa: AlexNet i *Transfer learning*\n",
        "\n",
        "En aquesta pràctica aplicarem la tècnica de transfer learning amb la primera xarxa CNN moderna:\n",
        "- AlexNet. [ImageNet Classification with Deep Convolutional Neural Network, 2012](https://proceedings.neurips.cc/paper/2012/file/c399862d3b9d6b76c8436e924a68c45b-Paper.pdf). La mida d'entrada de les imatges és de (227x227x3).Té prop de 60 milions de paràmetres entrenables.\n",
        "\n",
        "Pytorch ens permet emprar aquest tipus de xarxes de manera molt senzilla. [Més informació](https://pytorch.org/vision/stable/models.html). Si el model que cercam no es troba integrat dins la llibreria Pytorch és bastant probable que si la trobem a Huggingface.\n",
        "\n",
        "Descarregarem AlexNet i a analitzar-la. En aquest cas no només ens baixam la seva arquitectura, també els pesos resultants de l'entrenament.\n",
        "\n",
        "**Normalment els problems els resoldrem emprant models ja definits i preentrenats**\n",
        "\n",
        "\n"
      ]
    },
    {
      "cell_type": "code",
      "id": "55fbbcc900043cba",
      "metadata": {
        "id": "55fbbcc900043cba",
        "outputId": "529ff22f-d658-4720-ab45-ab1dd6e434f0",
        "colab": {
          "base_uri": "https://localhost:8080/"
        }
      },
      "source": [
        "alex = models.alexnet(weights=True)\n",
        "\n",
        "print(\"-\" * 50)\n",
        "print(\"Arquitectura AlexNet\")\n",
        "print(\"-\" * 50)\n",
        "print(alex)"
      ],
      "outputs": [
        {
          "output_type": "stream",
          "name": "stderr",
          "text": [
            "/usr/local/lib/python3.12/dist-packages/torchvision/models/_utils.py:223: UserWarning: Arguments other than a weight enum or `None` for 'weights' are deprecated since 0.13 and may be removed in the future. The current behavior is equivalent to passing `weights=AlexNet_Weights.IMAGENET1K_V1`. You can also use `weights=AlexNet_Weights.DEFAULT` to get the most up-to-date weights.\n",
            "  warnings.warn(msg)\n"
          ]
        },
        {
          "output_type": "stream",
          "name": "stdout",
          "text": [
            "Downloading: \"https://download.pytorch.org/models/alexnet-owt-7be5be79.pth\" to /root/.cache/torch/hub/checkpoints/alexnet-owt-7be5be79.pth\n"
          ]
        },
        {
          "output_type": "stream",
          "name": "stderr",
          "text": [
            "100%|██████████| 233M/233M [00:01<00:00, 174MB/s]\n"
          ]
        },
        {
          "output_type": "stream",
          "name": "stdout",
          "text": [
            "--------------------------------------------------\n",
            "Arquitectura AlexNet\n",
            "--------------------------------------------------\n",
            "AlexNet(\n",
            "  (features): Sequential(\n",
            "    (0): Conv2d(3, 64, kernel_size=(11, 11), stride=(4, 4), padding=(2, 2))\n",
            "    (1): ReLU(inplace=True)\n",
            "    (2): MaxPool2d(kernel_size=3, stride=2, padding=0, dilation=1, ceil_mode=False)\n",
            "    (3): Conv2d(64, 192, kernel_size=(5, 5), stride=(1, 1), padding=(2, 2))\n",
            "    (4): ReLU(inplace=True)\n",
            "    (5): MaxPool2d(kernel_size=3, stride=2, padding=0, dilation=1, ceil_mode=False)\n",
            "    (6): Conv2d(192, 384, kernel_size=(3, 3), stride=(1, 1), padding=(1, 1))\n",
            "    (7): ReLU(inplace=True)\n",
            "    (8): Conv2d(384, 256, kernel_size=(3, 3), stride=(1, 1), padding=(1, 1))\n",
            "    (9): ReLU(inplace=True)\n",
            "    (10): Conv2d(256, 256, kernel_size=(3, 3), stride=(1, 1), padding=(1, 1))\n",
            "    (11): ReLU(inplace=True)\n",
            "    (12): MaxPool2d(kernel_size=3, stride=2, padding=0, dilation=1, ceil_mode=False)\n",
            "  )\n",
            "  (avgpool): AdaptiveAvgPool2d(output_size=(6, 6))\n",
            "  (classifier): Sequential(\n",
            "    (0): Dropout(p=0.5, inplace=False)\n",
            "    (1): Linear(in_features=9216, out_features=4096, bias=True)\n",
            "    (2): ReLU(inplace=True)\n",
            "    (3): Dropout(p=0.5, inplace=False)\n",
            "    (4): Linear(in_features=4096, out_features=4096, bias=True)\n",
            "    (5): ReLU(inplace=True)\n",
            "    (6): Linear(in_features=4096, out_features=1000, bias=True)\n",
            "  )\n",
            ")\n"
          ]
        }
      ],
      "execution_count": 10
    },
    {
      "cell_type": "markdown",
      "id": "633321e56ea811ed",
      "metadata": {
        "id": "633321e56ea811ed"
      },
      "source": [
        "Podem accedir a una capa concreta pel seu nom o índex dins de l’estructura del model. Per exemple:"
      ]
    },
    {
      "cell_type": "code",
      "id": "3cc3f9f3c6064fa8",
      "metadata": {
        "id": "3cc3f9f3c6064fa8",
        "outputId": "f2e2e41c-5aca-405d-c1be-6c13b5f36f73",
        "colab": {
          "base_uri": "https://localhost:8080/"
        }
      },
      "source": [
        "alex.features[0]"
      ],
      "outputs": [
        {
          "output_type": "execute_result",
          "data": {
            "text/plain": [
              "Conv2d(3, 64, kernel_size=(11, 11), stride=(4, 4), padding=(2, 2))"
            ]
          },
          "metadata": {},
          "execution_count": 11
        }
      ],
      "execution_count": 11
    },
    {
      "metadata": {
        "id": "d5dfdeded411a78f"
      },
      "cell_type": "markdown",
      "source": [
        "El que nosaltres volem fer és emprar els pesos ja entrenats d'aquest model i aplicar-ho per resoldre un problema nou. Hi ha diverses maneres de realitzar la tècnica de ``Transfer Learning``. Les dues les hem explicades a la introducció, en aquest cas però emprarem el ``transfer learning`` pròpiament dit. L'element principal és congelar les capes de l'extractor de característiques. Per fer-ho empram les següents instruccions\n",
        "\n",
        "```\n",
        "for param in alex.features.parameters():\n",
        "   param.requires_grad = False\n",
        "\n",
        "```\n",
        "\n",
        "## Feina a fer:\n",
        "\n",
        "1. Carregar la xarxa AlexNet i congelar l'extractor de característiques.\n",
        "2. Definir un entorn seqüencial on implementarem el classificador de la xarxa.\n",
        "3. Realitzar un entrenament: comparar rendiment (accuracy) i nombre de paràmetres.\n",
        "4. Provar de guardar la vostra xarxa i tornar-la a carregar. Classificar una imatge del conjunt de test.\n",
        "\n",
        "**Nota**. Com veureu no us donam aquesta vegada el bucle d'entrenament, sigui com sigui podeu adaptar el vist a les sessions anteriors.\n"
      ],
      "id": "d5dfdeded411a78f"
    },
    {
      "cell_type": "code",
      "source": [
        "model_alexnet = nn.Sequential(\n",
        "\n",
        "nn.Conv2d(3, 64, kernel_size=(11, 11), stride=(4, 4), padding=(1, 1)),\n",
        "nn.ReLU(inplace=True),\n",
        "nn.MaxPool2d(kernel_size=3, stride=2, padding=0, dilation=1, ceil_mode=False),\n",
        "nn.Conv2d(64, 192, kernel_size=(5, 5), stride=(1, 1), padding=(2, 2)),\n",
        "nn.ReLU(inplace=True),\n",
        "nn.MaxPool2d(kernel_size=3, stride=2, padding=0, dilation=1, ceil_mode=False),\n",
        "nn.Conv2d(192, 384, kernel_size=(3, 3), stride=(1, 1), padding=(1, 1)),\n",
        "nn.ReLU(inplace=True),\n",
        "nn.Conv2d(384, 256, kernel_size=(3, 3), stride=(1, 1), padding=(1, 1)),\n",
        "nn.ReLU(inplace=True),\n",
        "nn.Conv2d(256, 256, kernel_size=(3, 3), stride=(1, 1), padding=(1, 1)),\n",
        "nn.ReLU(inplace=True),\n",
        "nn.MaxPool2d(kernel_size=3, stride=2, padding=0, dilation=1, ceil_mode=False)\n",
        "\n",
        "\n",
        ")"
      ],
      "metadata": {
        "id": "mcRfMgaYSDQ9"
      },
      "id": "mcRfMgaYSDQ9",
      "execution_count": 18,
      "outputs": []
    },
    {
      "cell_type": "code",
      "source": [
        "device = \"cuda\" if torch.cuda.is_available() else \"cpu\"\n",
        "\n",
        "#entrenament\n",
        "#loss_fn = torch.nn.CrossEntropyLoss()\n",
        "loss_fn = torch.nn.CrossEntropyLoss()\n",
        "learning_rate =  1e-3 # Hiperparàmetre\n",
        "optimizer = optim.Adam(alex.parameters(), lr=learning_rate)"
      ],
      "metadata": {
        "id": "hczdCYevStLR"
      },
      "id": "hczdCYevStLR",
      "execution_count": 27,
      "outputs": []
    },
    {
      "cell_type": "code",
      "source": [
        "from sklearn.metrics import accuracy_score\n"
      ],
      "metadata": {
        "id": "4vFQRU7FUImq"
      },
      "id": "4vFQRU7FUImq",
      "execution_count": 16,
      "outputs": []
    },
    {
      "cell_type": "code",
      "source": [
        "# @title\n",
        "\n",
        "num_epochs=4\n",
        "for epoch in range(num_epochs):\n",
        " # Iterate over training batches\n",
        "   print(f\"Epoch [{epoch + 1}/{num_epochs}]\")\n",
        "\n",
        "   for batch_index, (data, targets) in enumerate(tqdm(train_loader)):\n",
        "\n",
        "       targets = targets.to(device)\n",
        "       scores = model_alexnet(data)\n",
        "       loss = loss_fn(scores, targets)\n",
        "       optimizer.zero_grad()\n",
        "       loss.backward()\n",
        "       optimizer.step()\n",
        ""
      ],
      "metadata": {
        "colab": {
          "base_uri": "https://localhost:8080/",
          "height": 277,
          "referenced_widgets": [
            "ee4af7e5b9154e0d9bb57e666da7bfe7",
            "accc2ecfd98341509f4168294e042ec7",
            "a66f415498104ed5998038b73ced1e85",
            "6f740397c99043e1a9b9ae817da1f48d",
            "f2d76ae5c5be40ca90e6d0e48687a6db",
            "046a2914eb2c49a6b4475cbfbb38d788",
            "1475ffe0de504a72805c4b76e5d6a762",
            "b5aeeb47f61443dfa024c75cbf9602fa",
            "c4823ada63904b928d3c05b66958e8ae",
            "5de74d8d9652456381e755c80f29b75a",
            "8e95255e08304e6493c2507b20d4a995"
          ]
        },
        "id": "Rbgwhsp6TLav",
        "outputId": "532e417e-845c-4910-d181-b21079132603"
      },
      "id": "Rbgwhsp6TLav",
      "execution_count": 29,
      "outputs": [
        {
          "output_type": "stream",
          "name": "stdout",
          "text": [
            "Epoch [1/4]\n"
          ]
        },
        {
          "output_type": "display_data",
          "data": {
            "text/plain": [
              "  0%|          | 0/25000 [00:00<?, ?it/s]"
            ],
            "application/vnd.jupyter.widget-view+json": {
              "version_major": 2,
              "version_minor": 0,
              "model_id": "ee4af7e5b9154e0d9bb57e666da7bfe7"
            }
          },
          "metadata": {}
        },
        {
          "output_type": "error",
          "ename": "IndexError",
          "evalue": "Dimension out of range (expected to be in range of [-1, 0], but got 1)",
          "traceback": [
            "\u001b[0;31m---------------------------------------------------------------------------\u001b[0m",
            "\u001b[0;31mIndexError\u001b[0m                                Traceback (most recent call last)",
            "\u001b[0;32m/tmp/ipython-input-2770342872.py\u001b[0m in \u001b[0;36m<cell line: 0>\u001b[0;34m()\u001b[0m\n\u001b[1;32m     10\u001b[0m        \u001b[0mtargets\u001b[0m \u001b[0;34m=\u001b[0m \u001b[0mtargets\u001b[0m\u001b[0;34m.\u001b[0m\u001b[0mto\u001b[0m\u001b[0;34m(\u001b[0m\u001b[0mdevice\u001b[0m\u001b[0;34m)\u001b[0m\u001b[0;34m\u001b[0m\u001b[0;34m\u001b[0m\u001b[0m\n\u001b[1;32m     11\u001b[0m        \u001b[0mscores\u001b[0m \u001b[0;34m=\u001b[0m \u001b[0mmodel_alexnet\u001b[0m\u001b[0;34m(\u001b[0m\u001b[0mdata\u001b[0m\u001b[0;34m)\u001b[0m\u001b[0;34m\u001b[0m\u001b[0;34m\u001b[0m\u001b[0m\n\u001b[0;32m---> 12\u001b[0;31m        \u001b[0mloss\u001b[0m \u001b[0;34m=\u001b[0m \u001b[0mloss_fn\u001b[0m\u001b[0;34m(\u001b[0m\u001b[0mscores\u001b[0m\u001b[0;34m,\u001b[0m \u001b[0mtargets\u001b[0m\u001b[0;34m.\u001b[0m\u001b[0msqueeze\u001b[0m\u001b[0;34m(\u001b[0m\u001b[0;36m1\u001b[0m\u001b[0;34m)\u001b[0m\u001b[0;34m)\u001b[0m\u001b[0;34m\u001b[0m\u001b[0;34m\u001b[0m\u001b[0m\n\u001b[0m\u001b[1;32m     13\u001b[0m        \u001b[0moptimizer\u001b[0m\u001b[0;34m.\u001b[0m\u001b[0mzero_grad\u001b[0m\u001b[0;34m(\u001b[0m\u001b[0;34m)\u001b[0m\u001b[0;34m\u001b[0m\u001b[0;34m\u001b[0m\u001b[0m\n\u001b[1;32m     14\u001b[0m        \u001b[0mloss\u001b[0m\u001b[0;34m.\u001b[0m\u001b[0mbackward\u001b[0m\u001b[0;34m(\u001b[0m\u001b[0;34m)\u001b[0m\u001b[0;34m\u001b[0m\u001b[0;34m\u001b[0m\u001b[0m\n",
            "\u001b[0;31mIndexError\u001b[0m: Dimension out of range (expected to be in range of [-1, 0], but got 1)"
          ]
        }
      ]
    },
    {
      "metadata": {
        "id": "1dc30616c65ed32c"
      },
      "cell_type": "markdown",
      "source": [
        "## EXTRA: Com emprar la GPU per entrenar un model\n",
        "\n",
        "Un dels elements diferencials d'aquest model, respecte als que havíem vist fins ara, és la seva mida i, per tant, l'entrenament es torna impossible emprant __CPU__ directament. Per resoldre-ho hem d'emprar una **GPU**, a Google Colab disposam d'elles gratuïtament. Per fer-ho amb *Pytorch* hem de fer tres passes:\n",
        "\n",
        "1. Comprovar que hi ha una GPU disponible.\n",
        "2. Moure el model a GPU.\n",
        "3. Moure les dades a GPU.\n",
        "\n",
        "### Comprova si tenim una GPU disponible\n",
        "\n",
        "Primer de tot, cal verificar si hi ha una GPU disponible a l’entorn. Això es pot fer amb el següent codi:\n",
        "\n",
        "```python\n",
        "\n",
        "import torch\n",
        "\n",
        "is_cuda = torch.cuda.is_available()\n",
        "```\n",
        "\n",
        "Si la variable ``is_cuda`` és certa, llavors tens accés a una GPU.\n",
        "\n",
        "### Mou el model a la GPU\n",
        "\n",
        "En PyTorch, els models han d'estar explícitament en la GPU per poder fer servir la seva potència de càlcul. Si estàs carregant un model preentrenat (com AlexNet, ResNet, etc.), o si has definit el teu propi model, pots moure’l a la GPU amb ``.to(device)``, on device fa referència a la GPU.\n",
        "\n",
        "```python\n",
        "\n",
        "device = torch.device(\"cuda\" if torch.cuda.is_available() else \"cpu\")\n",
        "model = model.to(device)\n",
        "```\n",
        "\n",
        "Això mou el model a la GPU (si està disponible). Si només tens una CPU, el model es mantindrà a la CPU.\n",
        "\n",
        "### Mou les dades a la GPU\n",
        "\n",
        "No només el model, sinó que també les dades (inputs) han d'estar a la GPU per fer les operacions més ràpides. Així, abans de fer servir les dades com a inputs del model, assegura't de moure-les al mateix device:\n",
        "\n",
        "```python\n",
        "\n",
        "# Exemple d'un batch de dades\n",
        "inputs, labels = inputs.to(device), labels.to(device)\n",
        "```"
      ],
      "id": "1dc30616c65ed32c"
    },
    {
      "metadata": {
        "id": "85ac66732aeb2560"
      },
      "cell_type": "code",
      "source": [],
      "id": "85ac66732aeb2560",
      "outputs": [],
      "execution_count": null
    }
  ],
  "metadata": {
    "kernelspec": {
      "display_name": "Python 3 (ipykernel)",
      "language": "python",
      "name": "python3"
    },
    "language_info": {
      "codemirror_mode": {
        "name": "ipython",
        "version": 3
      },
      "file_extension": ".py",
      "mimetype": "text/x-python",
      "name": "python",
      "nbconvert_exporter": "python",
      "pygments_lexer": "ipython3",
      "version": "3.12.4"
    },
    "colab": {
      "provenance": []
    },
    "widgets": {
      "application/vnd.jupyter.widget-state+json": {
        "ee4af7e5b9154e0d9bb57e666da7bfe7": {
          "model_module": "@jupyter-widgets/controls",
          "model_name": "HBoxModel",
          "model_module_version": "1.5.0",
          "state": {
            "_dom_classes": [],
            "_model_module": "@jupyter-widgets/controls",
            "_model_module_version": "1.5.0",
            "_model_name": "HBoxModel",
            "_view_count": null,
            "_view_module": "@jupyter-widgets/controls",
            "_view_module_version": "1.5.0",
            "_view_name": "HBoxView",
            "box_style": "",
            "children": [
              "IPY_MODEL_accc2ecfd98341509f4168294e042ec7",
              "IPY_MODEL_a66f415498104ed5998038b73ced1e85",
              "IPY_MODEL_6f740397c99043e1a9b9ae817da1f48d"
            ],
            "layout": "IPY_MODEL_f2d76ae5c5be40ca90e6d0e48687a6db"
          }
        },
        "accc2ecfd98341509f4168294e042ec7": {
          "model_module": "@jupyter-widgets/controls",
          "model_name": "HTMLModel",
          "model_module_version": "1.5.0",
          "state": {
            "_dom_classes": [],
            "_model_module": "@jupyter-widgets/controls",
            "_model_module_version": "1.5.0",
            "_model_name": "HTMLModel",
            "_view_count": null,
            "_view_module": "@jupyter-widgets/controls",
            "_view_module_version": "1.5.0",
            "_view_name": "HTMLView",
            "description": "",
            "description_tooltip": null,
            "layout": "IPY_MODEL_046a2914eb2c49a6b4475cbfbb38d788",
            "placeholder": "​",
            "style": "IPY_MODEL_1475ffe0de504a72805c4b76e5d6a762",
            "value": "  0%"
          }
        },
        "a66f415498104ed5998038b73ced1e85": {
          "model_module": "@jupyter-widgets/controls",
          "model_name": "FloatProgressModel",
          "model_module_version": "1.5.0",
          "state": {
            "_dom_classes": [],
            "_model_module": "@jupyter-widgets/controls",
            "_model_module_version": "1.5.0",
            "_model_name": "FloatProgressModel",
            "_view_count": null,
            "_view_module": "@jupyter-widgets/controls",
            "_view_module_version": "1.5.0",
            "_view_name": "ProgressView",
            "bar_style": "danger",
            "description": "",
            "description_tooltip": null,
            "layout": "IPY_MODEL_b5aeeb47f61443dfa024c75cbf9602fa",
            "max": 25000,
            "min": 0,
            "orientation": "horizontal",
            "style": "IPY_MODEL_c4823ada63904b928d3c05b66958e8ae",
            "value": 0
          }
        },
        "6f740397c99043e1a9b9ae817da1f48d": {
          "model_module": "@jupyter-widgets/controls",
          "model_name": "HTMLModel",
          "model_module_version": "1.5.0",
          "state": {
            "_dom_classes": [],
            "_model_module": "@jupyter-widgets/controls",
            "_model_module_version": "1.5.0",
            "_model_name": "HTMLModel",
            "_view_count": null,
            "_view_module": "@jupyter-widgets/controls",
            "_view_module_version": "1.5.0",
            "_view_name": "HTMLView",
            "description": "",
            "description_tooltip": null,
            "layout": "IPY_MODEL_5de74d8d9652456381e755c80f29b75a",
            "placeholder": "​",
            "style": "IPY_MODEL_8e95255e08304e6493c2507b20d4a995",
            "value": " 0/25000 [00:00&lt;?, ?it/s]"
          }
        },
        "f2d76ae5c5be40ca90e6d0e48687a6db": {
          "model_module": "@jupyter-widgets/base",
          "model_name": "LayoutModel",
          "model_module_version": "1.2.0",
          "state": {
            "_model_module": "@jupyter-widgets/base",
            "_model_module_version": "1.2.0",
            "_model_name": "LayoutModel",
            "_view_count": null,
            "_view_module": "@jupyter-widgets/base",
            "_view_module_version": "1.2.0",
            "_view_name": "LayoutView",
            "align_content": null,
            "align_items": null,
            "align_self": null,
            "border": null,
            "bottom": null,
            "display": null,
            "flex": null,
            "flex_flow": null,
            "grid_area": null,
            "grid_auto_columns": null,
            "grid_auto_flow": null,
            "grid_auto_rows": null,
            "grid_column": null,
            "grid_gap": null,
            "grid_row": null,
            "grid_template_areas": null,
            "grid_template_columns": null,
            "grid_template_rows": null,
            "height": null,
            "justify_content": null,
            "justify_items": null,
            "left": null,
            "margin": null,
            "max_height": null,
            "max_width": null,
            "min_height": null,
            "min_width": null,
            "object_fit": null,
            "object_position": null,
            "order": null,
            "overflow": null,
            "overflow_x": null,
            "overflow_y": null,
            "padding": null,
            "right": null,
            "top": null,
            "visibility": null,
            "width": null
          }
        },
        "046a2914eb2c49a6b4475cbfbb38d788": {
          "model_module": "@jupyter-widgets/base",
          "model_name": "LayoutModel",
          "model_module_version": "1.2.0",
          "state": {
            "_model_module": "@jupyter-widgets/base",
            "_model_module_version": "1.2.0",
            "_model_name": "LayoutModel",
            "_view_count": null,
            "_view_module": "@jupyter-widgets/base",
            "_view_module_version": "1.2.0",
            "_view_name": "LayoutView",
            "align_content": null,
            "align_items": null,
            "align_self": null,
            "border": null,
            "bottom": null,
            "display": null,
            "flex": null,
            "flex_flow": null,
            "grid_area": null,
            "grid_auto_columns": null,
            "grid_auto_flow": null,
            "grid_auto_rows": null,
            "grid_column": null,
            "grid_gap": null,
            "grid_row": null,
            "grid_template_areas": null,
            "grid_template_columns": null,
            "grid_template_rows": null,
            "height": null,
            "justify_content": null,
            "justify_items": null,
            "left": null,
            "margin": null,
            "max_height": null,
            "max_width": null,
            "min_height": null,
            "min_width": null,
            "object_fit": null,
            "object_position": null,
            "order": null,
            "overflow": null,
            "overflow_x": null,
            "overflow_y": null,
            "padding": null,
            "right": null,
            "top": null,
            "visibility": null,
            "width": null
          }
        },
        "1475ffe0de504a72805c4b76e5d6a762": {
          "model_module": "@jupyter-widgets/controls",
          "model_name": "DescriptionStyleModel",
          "model_module_version": "1.5.0",
          "state": {
            "_model_module": "@jupyter-widgets/controls",
            "_model_module_version": "1.5.0",
            "_model_name": "DescriptionStyleModel",
            "_view_count": null,
            "_view_module": "@jupyter-widgets/base",
            "_view_module_version": "1.2.0",
            "_view_name": "StyleView",
            "description_width": ""
          }
        },
        "b5aeeb47f61443dfa024c75cbf9602fa": {
          "model_module": "@jupyter-widgets/base",
          "model_name": "LayoutModel",
          "model_module_version": "1.2.0",
          "state": {
            "_model_module": "@jupyter-widgets/base",
            "_model_module_version": "1.2.0",
            "_model_name": "LayoutModel",
            "_view_count": null,
            "_view_module": "@jupyter-widgets/base",
            "_view_module_version": "1.2.0",
            "_view_name": "LayoutView",
            "align_content": null,
            "align_items": null,
            "align_self": null,
            "border": null,
            "bottom": null,
            "display": null,
            "flex": null,
            "flex_flow": null,
            "grid_area": null,
            "grid_auto_columns": null,
            "grid_auto_flow": null,
            "grid_auto_rows": null,
            "grid_column": null,
            "grid_gap": null,
            "grid_row": null,
            "grid_template_areas": null,
            "grid_template_columns": null,
            "grid_template_rows": null,
            "height": null,
            "justify_content": null,
            "justify_items": null,
            "left": null,
            "margin": null,
            "max_height": null,
            "max_width": null,
            "min_height": null,
            "min_width": null,
            "object_fit": null,
            "object_position": null,
            "order": null,
            "overflow": null,
            "overflow_x": null,
            "overflow_y": null,
            "padding": null,
            "right": null,
            "top": null,
            "visibility": null,
            "width": null
          }
        },
        "c4823ada63904b928d3c05b66958e8ae": {
          "model_module": "@jupyter-widgets/controls",
          "model_name": "ProgressStyleModel",
          "model_module_version": "1.5.0",
          "state": {
            "_model_module": "@jupyter-widgets/controls",
            "_model_module_version": "1.5.0",
            "_model_name": "ProgressStyleModel",
            "_view_count": null,
            "_view_module": "@jupyter-widgets/base",
            "_view_module_version": "1.2.0",
            "_view_name": "StyleView",
            "bar_color": null,
            "description_width": ""
          }
        },
        "5de74d8d9652456381e755c80f29b75a": {
          "model_module": "@jupyter-widgets/base",
          "model_name": "LayoutModel",
          "model_module_version": "1.2.0",
          "state": {
            "_model_module": "@jupyter-widgets/base",
            "_model_module_version": "1.2.0",
            "_model_name": "LayoutModel",
            "_view_count": null,
            "_view_module": "@jupyter-widgets/base",
            "_view_module_version": "1.2.0",
            "_view_name": "LayoutView",
            "align_content": null,
            "align_items": null,
            "align_self": null,
            "border": null,
            "bottom": null,
            "display": null,
            "flex": null,
            "flex_flow": null,
            "grid_area": null,
            "grid_auto_columns": null,
            "grid_auto_flow": null,
            "grid_auto_rows": null,
            "grid_column": null,
            "grid_gap": null,
            "grid_row": null,
            "grid_template_areas": null,
            "grid_template_columns": null,
            "grid_template_rows": null,
            "height": null,
            "justify_content": null,
            "justify_items": null,
            "left": null,
            "margin": null,
            "max_height": null,
            "max_width": null,
            "min_height": null,
            "min_width": null,
            "object_fit": null,
            "object_position": null,
            "order": null,
            "overflow": null,
            "overflow_x": null,
            "overflow_y": null,
            "padding": null,
            "right": null,
            "top": null,
            "visibility": null,
            "width": null
          }
        },
        "8e95255e08304e6493c2507b20d4a995": {
          "model_module": "@jupyter-widgets/controls",
          "model_name": "DescriptionStyleModel",
          "model_module_version": "1.5.0",
          "state": {
            "_model_module": "@jupyter-widgets/controls",
            "_model_module_version": "1.5.0",
            "_model_name": "DescriptionStyleModel",
            "_view_count": null,
            "_view_module": "@jupyter-widgets/base",
            "_view_module_version": "1.2.0",
            "_view_name": "StyleView",
            "description_width": ""
          }
        }
      }
    }
  },
  "nbformat": 4,
  "nbformat_minor": 5
}